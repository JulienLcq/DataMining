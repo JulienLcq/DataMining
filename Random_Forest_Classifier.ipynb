{
 "cells": [
  {
   "cell_type": "code",
   "execution_count": null,
   "id": "6216c7cd-8c91-4b8d-8b2d-2a3366359168",
   "metadata": {},
   "outputs": [],
   "source": [
    "import numpy as np\n",
    "import pandas as pd\n",
    "from sklearn.model_selection import train_test_split\n",
    "from sklearn.ensemble import RandomForestClassifier\n",
    "from sklearn.ensemble import RandomForestRegressor\n",
    "\n",
    "from sklearn.metrics import accuracy_score, top_k_accuracy_score, average_precision_score\n",
    "\n",
    "limit: int = 100000\n",
    "\n",
    "train_set_df = pd.read_csv(\"Train_set.csv\")\n",
    "\n",
    "\n",
    "X = train_set_df.drop(columns=[\"Severity\"])[:limit]\n",
    "y = train_set_df[\"Severity\"][:limit]\n",
    "\n",
    "\n",
    "X_train, X_test, y_train, y_test = train_test_split(X, y, test_size=0.2, random_state=42)\n",
    "rf_model = RandomForestClassifier(n_estimators=100, random_state=42)\n",
    "\n",
    "rf_model.fit(X_train, y_train)\n",
    "\n",
    "\n",
    "test_data = pd.read_csv('Test_Set.csv')\n",
    "\n",
    "# Separate features and target variable for the test set\n",
    "X_test = test_data.drop(columns=[\"Severity\"])[:limit]\n",
    "y_test = test_data[\"Severity\"][:limit]\n",
    "\n",
    "\n",
    "\n",
    "y_pred = rf_model.predict(X_test)\n",
    "\n",
    "accuracy = accuracy_score(y_test, y_pred)"
   ]
  }
 ],
 "metadata": {
  "kernelspec": {
   "display_name": "Python 3 (ipykernel)",
   "language": "python",
   "name": "python3"
  },
  "language_info": {
   "codemirror_mode": {
    "name": "ipython",
    "version": 3
   },
   "file_extension": ".py",
   "mimetype": "text/x-python",
   "name": "python",
   "nbconvert_exporter": "python",
   "pygments_lexer": "ipython3",
   "version": "3.10.11"
  }
 },
 "nbformat": 4,
 "nbformat_minor": 5
}
